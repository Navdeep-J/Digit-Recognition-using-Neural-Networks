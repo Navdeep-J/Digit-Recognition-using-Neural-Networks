{
  "nbformat": 4,
  "nbformat_minor": 0,
  "metadata": {
    "colab": {
      "provenance": [],
      "gpuType": "T4"
    },
    "kernelspec": {
      "name": "python3",
      "display_name": "Python 3"
    },
    "language_info": {
      "name": "python"
    },
    "accelerator": "GPU"
  },
  "cells": [
    {
      "cell_type": "markdown",
      "source": [
        "# DIGIT RECOGNITION USING NEURAL NETWORKS"
      ],
      "metadata": {
        "id": "-bOn-n6SiTMR"
      }
    },
    {
      "cell_type": "markdown",
      "source": [
        "## Import Libraries"
      ],
      "metadata": {
        "id": "vcW_M5FQid49"
      }
    },
    {
      "cell_type": "code",
      "source": [
        "import tensorflow as tf\n",
        "import numpy as np\n",
        "from tensorflow import keras"
      ],
      "metadata": {
        "id": "eTgRUBlMiVLN"
      },
      "execution_count": 1,
      "outputs": []
    },
    {
      "cell_type": "markdown",
      "source": [
        "## Load dataset"
      ],
      "metadata": {
        "id": "KfXRF76Qio1z"
      }
    },
    {
      "cell_type": "code",
      "source": [
        "mnist = tf.keras.datasets.mnist\n",
        "\n",
        "# Split dataset\n",
        "(train_imgs, train_labels), (test_imgs, test_labels) = mnist.load_data()"
      ],
      "metadata": {
        "id": "mV3BfYEUiVPJ"
      },
      "execution_count": 2,
      "outputs": []
    },
    {
      "cell_type": "markdown",
      "source": [
        "## Data Preprocessing"
      ],
      "metadata": {
        "id": "SkQ23oHUjI8T"
      }
    },
    {
      "cell_type": "code",
      "source": [
        "# Normalization\n",
        "train_imgs = train_imgs / 255.0\n",
        "test_imgs = test_imgs / 255.0"
      ],
      "metadata": {
        "id": "7X5Hznn7jHj9"
      },
      "execution_count": 3,
      "outputs": []
    },
    {
      "cell_type": "markdown",
      "source": [
        "## Callback class"
      ],
      "metadata": {
        "id": "-1l5x0ablLVg"
      }
    },
    {
      "cell_type": "code",
      "source": [
        "class mycallback(tf.keras.callbacks.Callback):\n",
        "    def on_epoch_end(self, epoch, logs={}):\n",
        "        if logs.get('accuracy')>0.95:\n",
        "            print(\"\\nAccuracy is greater than 0.95 so cancelling training!!\")\n",
        "            self.model.stop_training = True\n",
        "\n",
        "# Instantiate class\n",
        "callbacks = mycallback()"
      ],
      "metadata": {
        "id": "7wwzA6ZwlPad"
      },
      "execution_count": 4,
      "outputs": []
    },
    {
      "cell_type": "markdown",
      "source": [
        "## Define and compile the model"
      ],
      "metadata": {
        "id": "9wtgMLmzjWS5"
      }
    },
    {
      "cell_type": "code",
      "source": [
        "model = keras.models.Sequential([\n",
        "    tf.keras.layers.Flatten(input_shape=(28,28)),\n",
        "    tf.keras.layers.Dense(512, activation = tf.nn.relu),\n",
        "    tf.keras.layers.Dense(10, activation = tf.nn.softmax)\n",
        "])\n",
        "\n",
        "model.compile(optimizer = 'sgd',\n",
        "              loss = 'sparse_categorical_crossentropy',\n",
        "              metrics = ['accuracy'])"
      ],
      "metadata": {
        "id": "TgmVw4gbjVfS"
      },
      "execution_count": 5,
      "outputs": []
    },
    {
      "cell_type": "markdown",
      "source": [
        "## Train the model"
      ],
      "metadata": {
        "id": "3fPTuhgzk4-_"
      }
    },
    {
      "cell_type": "code",
      "source": [
        "model.fit(train_imgs, train_labels, epochs = 10, callbacks = [callbacks])"
      ],
      "metadata": {
        "colab": {
          "base_uri": "https://localhost:8080/"
        },
        "id": "VVRUROC2k4e0",
        "outputId": "47ba50d4-d815-4782-b6ad-6c7fd7f30ac8"
      },
      "execution_count": 6,
      "outputs": [
        {
          "output_type": "stream",
          "name": "stdout",
          "text": [
            "Epoch 1/10\n",
            "1875/1875 [==============================] - 9s 4ms/step - loss: 0.6047 - accuracy: 0.8504\n",
            "Epoch 2/10\n",
            "1875/1875 [==============================] - 7s 4ms/step - loss: 0.3237 - accuracy: 0.9103\n",
            "Epoch 3/10\n",
            "1875/1875 [==============================] - 5s 3ms/step - loss: 0.2761 - accuracy: 0.9235\n",
            "Epoch 4/10\n",
            "1875/1875 [==============================] - 5s 2ms/step - loss: 0.2461 - accuracy: 0.9310\n",
            "Epoch 5/10\n",
            "1875/1875 [==============================] - 5s 3ms/step - loss: 0.2228 - accuracy: 0.9383\n",
            "Epoch 6/10\n",
            "1875/1875 [==============================] - 5s 2ms/step - loss: 0.2036 - accuracy: 0.9436\n",
            "Epoch 7/10\n",
            "1875/1875 [==============================] - 5s 3ms/step - loss: 0.1878 - accuracy: 0.9478\n",
            "Epoch 8/10\n",
            "1861/1875 [============================>.] - ETA: 0s - loss: 0.1745 - accuracy: 0.9521\n",
            "Accuracy is greater than 0.95 so cancelling training!!\n",
            "1875/1875 [==============================] - 5s 3ms/step - loss: 0.1743 - accuracy: 0.9522\n"
          ]
        },
        {
          "output_type": "execute_result",
          "data": {
            "text/plain": [
              "<keras.callbacks.History at 0x7f0efb77a470>"
            ]
          },
          "metadata": {},
          "execution_count": 6
        }
      ]
    },
    {
      "cell_type": "markdown",
      "source": [
        "## Testing the model"
      ],
      "metadata": {
        "id": "xrVAF4Wppy3d"
      }
    },
    {
      "cell_type": "code",
      "source": [
        "# Testing model on unseen data\n",
        "model.evaluate(test_imgs, test_labels)"
      ],
      "metadata": {
        "colab": {
          "base_uri": "https://localhost:8080/"
        },
        "id": "uLbySbZGllD_",
        "outputId": "ee61d2de-a367-4475-f118-f2293e4a32fa"
      },
      "execution_count": 7,
      "outputs": [
        {
          "output_type": "stream",
          "name": "stdout",
          "text": [
            "313/313 [==============================] - 1s 2ms/step - loss: 0.1689 - accuracy: 0.9522\n"
          ]
        },
        {
          "output_type": "execute_result",
          "data": {
            "text/plain": [
              "[0.16885493695735931, 0.9521999955177307]"
            ]
          },
          "metadata": {},
          "execution_count": 7
        }
      ]
    }
  ]
}